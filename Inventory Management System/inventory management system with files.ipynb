{
 "cells": [
  {
   "cell_type": "code",
   "execution_count": 22,
   "id": "b4ffccc0",
   "metadata": {},
   "outputs": [],
   "source": [
    "fd = open('inventory.txt','r')\n",
    "products = fd.read().split('\\n')\n",
    "\n",
    "fd.close()"
   ]
  },
  {
   "cell_type": "code",
   "execution_count": null,
   "id": "2b9d6a83",
   "metadata": {},
   "outputs": [],
   "source": [
    "for i in products:\n",
    "    print(i)"
   ]
  },
  {
   "cell_type": "code",
   "execution_count": 8,
   "id": "d883628d",
   "metadata": {
    "scrolled": true
   },
   "outputs": [
    {
     "name": "stdout",
     "output_type": "stream",
     "text": [
      "Enter your username:Harshvardhan\n",
      "Enter your phone number1236789076\n",
      "Enter your mail:harsh0604@gmail.com\n",
      "Enter the product id:1\n",
      "Enter the product quantity:4\n",
      "----------------------------\n",
      "Product Name: chocolate\n",
      "Product Cost: 15\n",
      "Product Quantity: 4\n",
      "----------------------------\n",
      "Billing amount: 60\n",
      "----------------------------\n",
      "----------------------------\n",
      "Inventory updated\n"
     ]
    }
   ],
   "source": [
    "#Taking time\n",
    "import time\n",
    "\n",
    "#reading the inventory\n",
    "\n",
    "fd = open('inventory.txt','r')\n",
    "products = fd.read().split('\\n')\n",
    "\n",
    "fd.close()\n",
    "\n",
    "#taking user input\n",
    "uin_username=input(\"Enter your username:\")\n",
    "uin_phone=input(\"Enter your phone number\")\n",
    "uin_mail=input(\"Enter your mail:\")\n",
    "uin_pro_id=input(\"Enter the product id:\")\n",
    "uin_pro_quan=input(\"Enter the product quantity:\")\n",
    "\n",
    "updated_product_lst = []\n",
    "\n",
    "#going through each product detail\n",
    "for product in products:\n",
    "    \n",
    "    \n",
    "    pro_details=product.split(',')\n",
    "    \n",
    "    #checking if product exits or not\n",
    "    if pro_details[0] == uin_pro_id:\n",
    "        \n",
    "        #if we have enough quantity\n",
    "        if int(uin_pro_quan) <= int(pro_details[3]):\n",
    "\n",
    "            print(\"----------------------------\")\n",
    "            print(\"Product Name:\", pro_details[1])\n",
    "            print(\"Product Cost:\", pro_details[2])\n",
    "            print(\"Product Quantity:\", uin_pro_quan)\n",
    "            print(\"----------------------------\")\n",
    "            print(\"Billing amount:\", int(uin_pro_quan) * int(pro_details[2]))\n",
    "            print(\"----------------------------\")\n",
    "            \n",
    "            #Updating inventory list\n",
    "            pro_details[3]=str(int(pro_details[3])-int(uin_pro_quan))\n",
    "            \n",
    "            \n",
    "            #generating Sales file\n",
    "            fd = open(\"Sales.txt\", 'a')\n",
    "            sales_detail= uin_username + \",\" + uin_phone + \",\" + uin_mail + \",\" + uin_pro_id + \",\" + pro_details[1] +\",\"+ uin_pro_quan + \"\" + str(int(uin_pro_quan) * int(pro_details[2])) +\",\"+ time.ctime()+ \"\\n\"\n",
    "            fd.write(sales_detail)\n",
    "            fd.close()\n",
    "            \n",
    "\n",
    "        #if we are not having enough quantity\n",
    "        else:\n",
    "            print(\"Sorry we're not having enough quantity\")\n",
    "            print(\"Produc left in stock\",pro_details[3],\"quantity\")\n",
    "            print(\"Would you like to purchase it?\")\n",
    "        \n",
    "            ch= input(\"Press Y/N?\")\n",
    "        \n",
    "            #if you want to purchase with remaining stalk\n",
    "            if(ch == 'Y' or ch == 'y'):\n",
    "                \n",
    "                print(\"----------------------------\")\n",
    "                print(\"Product Name:\", pro_details[1])\n",
    "                print(\"Product Cost:\", pro_details[2])\n",
    "                print(\"Product Quantity:\", pro_details[3])\n",
    "                print(\"----------------------------\")\n",
    "                print(\"Billing amount:\", int(pro_details[3]) * int(pro_details[2]))\n",
    "                print(\"----------------------------\")\n",
    "               \n",
    "                \n",
    "                #generating Sales file\n",
    "                fd = open(\"Sales.txt\", 'a')\n",
    "                sales_detail= uin_username + \",\" + uin_phone + \",\" + uin_mail + \",\" + uin_pro_id + \",\" + pro_details[1] +\",\"+ pro_details[3] + \"\" + str(int(pro_details[3]) * int(pro_details[2])) +\",\"+ time.ctime()+ \"\\n\"\n",
    "                fd.write(sales_detail)\n",
    "                fd.close()\n",
    "                \n",
    "                #update the inventory\n",
    "                 pro_details[3]= '0'\n",
    "            \n",
    "            else:\n",
    "                print(\"Thanks\")\n",
    "        \n",
    "    #updating my inventory list    \n",
    "    updated_product_lst.append(pro_details)\n",
    "        \n",
    "\n",
    "lst = []\n",
    "\n",
    "#updating my inventory string\n",
    "for i in updated_product_lst:\n",
    "    prod = i[0] + \",\" + i[1] + \",\" + i[2] + \",\" + i[3] +  '\\n'\n",
    "    lst.append(prod)\n",
    "        \n",
    "lst[-1] = lst[-1][:-1]        \n",
    "\n",
    "#updating my inventory file\n",
    "fd = open('inventory.txt','w')\n",
    "\n",
    "for i in lst:\n",
    "    fd.write(i)\n",
    "\n",
    "fd.close()\n",
    "\n",
    "print(\"----------------------------\")\n",
    "print(\"Inventory updated\")\n",
    "    "
   ]
  },
  {
   "cell_type": "code",
   "execution_count": 2,
   "id": "fcedec62",
   "metadata": {},
   "outputs": [
    {
     "name": "stdout",
     "output_type": "stream",
     "text": [
      "1,chocolate,15,100\n",
      "\n",
      "2,charcoal,50,0\n",
      "\n",
      "3,bottle,80,120\n",
      "\n",
      "4,notebook,20,33\n",
      "\n",
      "5,pencil,5,196\n",
      "\n"
     ]
    }
   ],
   "source": [
     #updated product list
    "for i in updated_product_lst:\n",
    "    if pro_details and pro_details[0]:  \n",
    "        prod = i[0] + \",\" + i[1] + \",\" + i[2] + \",\" + i[3] +  '\\n'\n",
    "        print(prod)"
   ]
  },
  {
   "cell_type": "code",
   "execution_count": null,
   "id": "434edc3f",
   "metadata": {},
   "outputs": [],
   "source": []
  }
 ],
 "metadata": {
  "kernelspec": {
   "display_name": "Python 3 (ipykernel)",
   "language": "python",
   "name": "python3"
  },
  "language_info": {
   "codemirror_mode": {
    "name": "ipython",
    "version": 3
   },
   "file_extension": ".py",
   "mimetype": "text/x-python",
   "name": "python",
   "nbconvert_exporter": "python",
   "pygments_lexer": "ipython3",
   "version": "3.11.3"
  }
 },
 "nbformat": 4,
 "nbformat_minor": 5
}
